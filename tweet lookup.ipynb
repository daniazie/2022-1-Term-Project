{
 "cells": [
  {
   "cell_type": "code",
   "execution_count": 983,
   "id": "ba0137fe-9cf6-46fb-b60b-de66d5f7a205",
   "metadata": {
    "tags": []
   },
   "outputs": [],
   "source": [
    "from TwitterAPI import TwitterAPI, TwitterOAuth, TwitterRequestError, TwitterConnectionError, TwitterPager\n",
    "import pandas as pd\n",
    "import os\n",
    "import random\n",
    "import matplotlib.pyplot as plt\n",
    "%matplotlib inline  \n",
    "import tensorflow as tf\n",
    "import tensorflow_hub as hub\n",
    "from textblob import TextBlob\n",
    "import seaborn as sns\n",
    "import plotly.express as px\n",
    "import re\n",
    "import time"
   ]
  },
  {
   "cell_type": "code",
   "execution_count": 984,
   "id": "27c18f2b-055a-43d9-a725-fc390d6e2136",
   "metadata": {},
   "outputs": [],
   "source": [
    "#Keys\n",
    "auth = TwitterOAuth.read_file()\n",
    "api = TwitterAPI(auth.consumer_key, auth.consumer_secret, auth.access_token_key, auth.access_token_secret, api_version='2')"
   ]
  },
  {
   "cell_type": "code",
   "execution_count": 985,
   "id": "bb275e0d-c26f-467f-928c-5b5297d902a5",
   "metadata": {},
   "outputs": [],
   "source": [
    "#function to collect tweets\n",
    "def collect_tweets(data):\n",
    "    #create infinity loop\n",
    "    while 1:  \n",
    "        #make API call\n",
    "        response = TwitterPager(api, 'tweets/search/recent', {\n",
    "        #excludes retweets and replies in search query and tweets with hashtags and only includes English tweets\n",
    "        'query':'jk rowling trans lang:en -is:retweet -is:reply',\n",
    "        #collects tweet data such as when the tweet was created and the contents of the tweet\n",
    "        'tweet.fields':'created_at,text',\n",
    "        #collects the type of tweet it is, (eg. quoted)\n",
    "        'expansions':'referenced_tweets.id',\n",
    "        #collects tweets posted until 6/1 3 p.m. UTC (6/2 12 a.m. KST)\n",
    "        'end_time':'2022-06-05T15:00:00Z',\n",
    "        #maximum results that can be collected in a page is 100\n",
    "        'max_results':100})\n",
    "        time.sleep(1)\n",
    "        \n",
    "        #collect tweets\n",
    "        for items in response.get_iterator(new_tweets=False):\n",
    "            #collects type of tweet. if there is no referenced_tweets dictionary, it means that it is an original tweet\n",
    "            if 'referenced_tweets' in items:\n",
    "                tweet_type = items['referenced_tweets'][0]['type']\n",
    "            else:\n",
    "                tweet_type = \"original_tweet\"\n",
    "        \n",
    "            \n",
    "            #collect tweet ID, time posted, and the content of the tweet\n",
    "            tweet_id = items['id']\n",
    "            time_created = items['created_at']\n",
    "            time_created = str(time_created).split(\"T\")[0]\n",
    "            tweet_text = items['text']\n",
    "            tweet_text = re.sub('@[^\\s]+','',tweet_text)\n",
    "            tweet_text = re.sub(r'http\\S+','',tweet_text)\n",
    "            tweet_text = re.sub('&amp;','',tweet_text)\n",
    "            \n",
    "            #append tweet details to dataframe\n",
    "            tweet_data = {'tweet id': tweet_id, 'created at': time_created, \n",
    "                              'tweet type': tweet_type, 'contents':tweet_text}\n",
    "            data = pd.concat([data, pd.DataFrame([tweet_data.values()], columns=data.columns)], ignore_index=True)\n",
    "            data.to_csv(r'C:\\Users\\dania\\Documents\\경희대학교\\웹 파이선프로그래밍\\Term Project\\term-project.csv')\n",
    "\n",
    "        return data"
   ]
  },
  {
   "cell_type": "code",
   "execution_count": 986,
   "id": "1194c234-412c-4c58-bd40-a097f98ec31c",
   "metadata": {
    "tags": []
   },
   "outputs": [],
   "source": [
    "#building the pandas dataframe\n",
    "df = pd.DataFrame(columns=[\"tweet id\", \"created at\", \"tweet type\", \"contents\"])\n",
    "df = collect_tweets(df)"
   ]
  },
  {
   "cell_type": "code",
   "execution_count": 987,
   "id": "01305c11-e205-44a3-ae01-e4880f36309c",
   "metadata": {
    "tags": []
   },
   "outputs": [
    {
     "data": {
      "text/html": [
       "<div>\n",
       "<style scoped>\n",
       "    .dataframe tbody tr th:only-of-type {\n",
       "        vertical-align: middle;\n",
       "    }\n",
       "\n",
       "    .dataframe tbody tr th {\n",
       "        vertical-align: top;\n",
       "    }\n",
       "\n",
       "    .dataframe thead th {\n",
       "        text-align: right;\n",
       "    }\n",
       "</style>\n",
       "<table border=\"1\" class=\"dataframe\">\n",
       "  <thead>\n",
       "    <tr style=\"text-align: right;\">\n",
       "      <th></th>\n",
       "      <th>tweet id</th>\n",
       "      <th>created at</th>\n",
       "      <th>tweet type</th>\n",
       "      <th>contents</th>\n",
       "    </tr>\n",
       "  </thead>\n",
       "  <tbody>\n",
       "    <tr>\n",
       "      <th>0</th>\n",
       "      <td>1533444025042079744</td>\n",
       "      <td>2022-06-05</td>\n",
       "      <td>original_tweet</td>\n",
       "      <td>BBC says it's 'misleading' to call JK Rowling'...</td>\n",
       "    </tr>\n",
       "    <tr>\n",
       "      <th>1</th>\n",
       "      <td>1533437278260969473</td>\n",
       "      <td>2022-06-05</td>\n",
       "      <td>quoted</td>\n",
       "      <td>I have 3 children and the books  movies of JK ...</td>\n",
       "    </tr>\n",
       "    <tr>\n",
       "      <th>2</th>\n",
       "      <td>1533423561339047936</td>\n",
       "      <td>2022-06-05</td>\n",
       "      <td>original_tweet</td>\n",
       "      <td>In one trillion years there will be no more JK...</td>\n",
       "    </tr>\n",
       "    <tr>\n",
       "      <th>3</th>\n",
       "      <td>1533390036183715843</td>\n",
       "      <td>2022-06-05</td>\n",
       "      <td>original_tweet</td>\n",
       "      <td>This is what  supports, people. The eradicatio...</td>\n",
       "    </tr>\n",
       "    <tr>\n",
       "      <th>4</th>\n",
       "      <td>1533385663612977152</td>\n",
       "      <td>2022-06-05</td>\n",
       "      <td>original_tweet</td>\n",
       "      <td>Happy #pride babes ❤️🧡💛💚💙💜\\n\\nStay hydrated, k...</td>\n",
       "    </tr>\n",
       "  </tbody>\n",
       "</table>\n",
       "</div>"
      ],
      "text/plain": [
       "              tweet id  created at      tweet type  \\\n",
       "0  1533444025042079744  2022-06-05  original_tweet   \n",
       "1  1533437278260969473  2022-06-05          quoted   \n",
       "2  1533423561339047936  2022-06-05  original_tweet   \n",
       "3  1533390036183715843  2022-06-05  original_tweet   \n",
       "4  1533385663612977152  2022-06-05  original_tweet   \n",
       "\n",
       "                                            contents  \n",
       "0  BBC says it's 'misleading' to call JK Rowling'...  \n",
       "1  I have 3 children and the books  movies of JK ...  \n",
       "2  In one trillion years there will be no more JK...  \n",
       "3  This is what  supports, people. The eradicatio...  \n",
       "4  Happy #pride babes ❤️🧡💛💚💙💜\\n\\nStay hydrated, k...  "
      ]
     },
     "execution_count": 987,
     "metadata": {},
     "output_type": "execute_result"
    }
   ],
   "source": [
    "df.head()"
   ]
  },
  {
   "cell_type": "code",
   "execution_count": 988,
   "id": "33df6b7a-6066-4a27-a277-02ec4da72049",
   "metadata": {
    "tags": []
   },
   "outputs": [],
   "source": [
    "def sentiment_analysis(tweet):\n",
    "    def getSubjectivity(text):\n",
    "        return TextBlob(text).sentiment.subjectivity\n",
    "\n",
    " #Create a function to get the polarity\n",
    "    def getPolarity(text):\n",
    "        return TextBlob(text).sentiment.polarity\n",
    "    df['subjectivity'] = df['contents'].apply(getSubjectivity)\n",
    "    df['polarity'] = df['contents'].apply(getPolarity)\n",
    "\n",
    "    def getAnalysis(score):\n",
    "          if score < 0:\n",
    "            return 'Negative'\n",
    "          else:\n",
    "            return 'Positive'\n",
    "\n",
    "    df['analysis'] = df['polarity'].apply(getAnalysis)\n",
    "    df.to_csv(r'C:\\Users\\dania\\Documents\\경희대학교\\웹 파이선프로그래밍\\Term Project\\term-project.csv')\n",
    "    return tweet"
   ]
  },
  {
   "cell_type": "code",
   "execution_count": 989,
   "id": "7017e473-7a68-4360-8d07-b39308a6454f",
   "metadata": {},
   "outputs": [
    {
     "data": {
      "text/html": [
       "<div>\n",
       "<style scoped>\n",
       "    .dataframe tbody tr th:only-of-type {\n",
       "        vertical-align: middle;\n",
       "    }\n",
       "\n",
       "    .dataframe tbody tr th {\n",
       "        vertical-align: top;\n",
       "    }\n",
       "\n",
       "    .dataframe thead th {\n",
       "        text-align: right;\n",
       "    }\n",
       "</style>\n",
       "<table border=\"1\" class=\"dataframe\">\n",
       "  <thead>\n",
       "    <tr style=\"text-align: right;\">\n",
       "      <th></th>\n",
       "      <th>tweet id</th>\n",
       "      <th>created at</th>\n",
       "      <th>tweet type</th>\n",
       "      <th>contents</th>\n",
       "      <th>subjectivity</th>\n",
       "      <th>polarity</th>\n",
       "      <th>analysis</th>\n",
       "    </tr>\n",
       "  </thead>\n",
       "  <tbody>\n",
       "    <tr>\n",
       "      <th>0</th>\n",
       "      <td>1533444025042079744</td>\n",
       "      <td>2022-06-05</td>\n",
       "      <td>original_tweet</td>\n",
       "      <td>BBC says it's 'misleading' to call JK Rowling'...</td>\n",
       "      <td>0.000000</td>\n",
       "      <td>0.000000</td>\n",
       "      <td>Positive</td>\n",
       "    </tr>\n",
       "    <tr>\n",
       "      <th>1</th>\n",
       "      <td>1533437278260969473</td>\n",
       "      <td>2022-06-05</td>\n",
       "      <td>quoted</td>\n",
       "      <td>I have 3 children and the books  movies of JK ...</td>\n",
       "      <td>0.100000</td>\n",
       "      <td>0.000000</td>\n",
       "      <td>Positive</td>\n",
       "    </tr>\n",
       "    <tr>\n",
       "      <th>2</th>\n",
       "      <td>1533423561339047936</td>\n",
       "      <td>2022-06-05</td>\n",
       "      <td>original_tweet</td>\n",
       "      <td>In one trillion years there will be no more JK...</td>\n",
       "      <td>0.500000</td>\n",
       "      <td>-0.250000</td>\n",
       "      <td>Negative</td>\n",
       "    </tr>\n",
       "    <tr>\n",
       "      <th>3</th>\n",
       "      <td>1533390036183715843</td>\n",
       "      <td>2022-06-05</td>\n",
       "      <td>original_tweet</td>\n",
       "      <td>This is what  supports, people. The eradicatio...</td>\n",
       "      <td>0.000000</td>\n",
       "      <td>0.000000</td>\n",
       "      <td>Positive</td>\n",
       "    </tr>\n",
       "    <tr>\n",
       "      <th>4</th>\n",
       "      <td>1533385663612977152</td>\n",
       "      <td>2022-06-05</td>\n",
       "      <td>original_tweet</td>\n",
       "      <td>Happy #pride babes ❤️🧡💛💚💙💜\\n\\nStay hydrated, k...</td>\n",
       "      <td>0.640000</td>\n",
       "      <td>0.120000</td>\n",
       "      <td>Positive</td>\n",
       "    </tr>\n",
       "    <tr>\n",
       "      <th>...</th>\n",
       "      <td>...</td>\n",
       "      <td>...</td>\n",
       "      <td>...</td>\n",
       "      <td>...</td>\n",
       "      <td>...</td>\n",
       "      <td>...</td>\n",
       "      <td>...</td>\n",
       "    </tr>\n",
       "    <tr>\n",
       "      <th>205</th>\n",
       "      <td>1531303224501755910</td>\n",
       "      <td>2022-05-30</td>\n",
       "      <td>original_tweet</td>\n",
       "      <td>if you google the prison that's in that articl...</td>\n",
       "      <td>0.494444</td>\n",
       "      <td>0.200000</td>\n",
       "      <td>Positive</td>\n",
       "    </tr>\n",
       "    <tr>\n",
       "      <th>206</th>\n",
       "      <td>1531298457239052290</td>\n",
       "      <td>2022-05-30</td>\n",
       "      <td>original_tweet</td>\n",
       "      <td>jk rowling concern trolling re: trans women in...</td>\n",
       "      <td>0.527778</td>\n",
       "      <td>0.080556</td>\n",
       "      <td>Positive</td>\n",
       "    </tr>\n",
       "    <tr>\n",
       "      <th>207</th>\n",
       "      <td>1531295538171195392</td>\n",
       "      <td>2022-05-30</td>\n",
       "      <td>quoted</td>\n",
       "      <td>Or a black trans artist! (Do you know one?) I ...</td>\n",
       "      <td>0.416667</td>\n",
       "      <td>-0.054167</td>\n",
       "      <td>Negative</td>\n",
       "    </tr>\n",
       "    <tr>\n",
       "      <th>208</th>\n",
       "      <td>1531293269740732418</td>\n",
       "      <td>2022-05-30</td>\n",
       "      <td>original_tweet</td>\n",
       "      <td>Jk rowling calling being trans a \"luxury belie...</td>\n",
       "      <td>0.503333</td>\n",
       "      <td>0.257121</td>\n",
       "      <td>Positive</td>\n",
       "    </tr>\n",
       "    <tr>\n",
       "      <th>209</th>\n",
       "      <td>1531292368498053120</td>\n",
       "      <td>2022-05-30</td>\n",
       "      <td>quoted</td>\n",
       "      <td>JK Rowling is definitely gonna find a way to u...</td>\n",
       "      <td>0.500000</td>\n",
       "      <td>0.000000</td>\n",
       "      <td>Positive</td>\n",
       "    </tr>\n",
       "  </tbody>\n",
       "</table>\n",
       "<p>210 rows × 7 columns</p>\n",
       "</div>"
      ],
      "text/plain": [
       "                tweet id  created at      tweet type  \\\n",
       "0    1533444025042079744  2022-06-05  original_tweet   \n",
       "1    1533437278260969473  2022-06-05          quoted   \n",
       "2    1533423561339047936  2022-06-05  original_tweet   \n",
       "3    1533390036183715843  2022-06-05  original_tweet   \n",
       "4    1533385663612977152  2022-06-05  original_tweet   \n",
       "..                   ...         ...             ...   \n",
       "205  1531303224501755910  2022-05-30  original_tweet   \n",
       "206  1531298457239052290  2022-05-30  original_tweet   \n",
       "207  1531295538171195392  2022-05-30          quoted   \n",
       "208  1531293269740732418  2022-05-30  original_tweet   \n",
       "209  1531292368498053120  2022-05-30          quoted   \n",
       "\n",
       "                                              contents  subjectivity  \\\n",
       "0    BBC says it's 'misleading' to call JK Rowling'...      0.000000   \n",
       "1    I have 3 children and the books  movies of JK ...      0.100000   \n",
       "2    In one trillion years there will be no more JK...      0.500000   \n",
       "3    This is what  supports, people. The eradicatio...      0.000000   \n",
       "4    Happy #pride babes ❤️🧡💛💚💙💜\\n\\nStay hydrated, k...      0.640000   \n",
       "..                                                 ...           ...   \n",
       "205  if you google the prison that's in that articl...      0.494444   \n",
       "206  jk rowling concern trolling re: trans women in...      0.527778   \n",
       "207  Or a black trans artist! (Do you know one?) I ...      0.416667   \n",
       "208  Jk rowling calling being trans a \"luxury belie...      0.503333   \n",
       "209  JK Rowling is definitely gonna find a way to u...      0.500000   \n",
       "\n",
       "     polarity  analysis  \n",
       "0    0.000000  Positive  \n",
       "1    0.000000  Positive  \n",
       "2   -0.250000  Negative  \n",
       "3    0.000000  Positive  \n",
       "4    0.120000  Positive  \n",
       "..        ...       ...  \n",
       "205  0.200000  Positive  \n",
       "206  0.080556  Positive  \n",
       "207 -0.054167  Negative  \n",
       "208  0.257121  Positive  \n",
       "209  0.000000  Positive  \n",
       "\n",
       "[210 rows x 7 columns]"
      ]
     },
     "execution_count": 989,
     "metadata": {},
     "output_type": "execute_result"
    }
   ],
   "source": [
    "sentiment_analysis(df)"
   ]
  },
  {
   "cell_type": "code",
   "execution_count": 990,
   "id": "77f76c18-1ca6-4ba0-8797-4dc8867c25f1",
   "metadata": {
    "tags": []
   },
   "outputs": [
    {
     "data": {
      "text/html": [
       "<div>\n",
       "<style scoped>\n",
       "    .dataframe tbody tr th:only-of-type {\n",
       "        vertical-align: middle;\n",
       "    }\n",
       "\n",
       "    .dataframe tbody tr th {\n",
       "        vertical-align: top;\n",
       "    }\n",
       "\n",
       "    .dataframe thead th {\n",
       "        text-align: right;\n",
       "    }\n",
       "</style>\n",
       "<table border=\"1\" class=\"dataframe\">\n",
       "  <thead>\n",
       "    <tr style=\"text-align: right;\">\n",
       "      <th></th>\n",
       "      <th>contents</th>\n",
       "      <th>polarity</th>\n",
       "    </tr>\n",
       "  </thead>\n",
       "  <tbody>\n",
       "    <tr>\n",
       "      <th>0</th>\n",
       "      <td>BBC says it's 'misleading' to call JK Rowling'...</td>\n",
       "      <td>0.00</td>\n",
       "    </tr>\n",
       "    <tr>\n",
       "      <th>1</th>\n",
       "      <td>I have 3 children and the books  movies of JK ...</td>\n",
       "      <td>0.00</td>\n",
       "    </tr>\n",
       "    <tr>\n",
       "      <th>2</th>\n",
       "      <td>In one trillion years there will be no more JK...</td>\n",
       "      <td>-0.25</td>\n",
       "    </tr>\n",
       "    <tr>\n",
       "      <th>3</th>\n",
       "      <td>This is what  supports, people. The eradicatio...</td>\n",
       "      <td>0.00</td>\n",
       "    </tr>\n",
       "    <tr>\n",
       "      <th>4</th>\n",
       "      <td>Happy #pride babes ❤️🧡💛💚💙💜\\n\\nStay hydrated, k...</td>\n",
       "      <td>0.12</td>\n",
       "    </tr>\n",
       "  </tbody>\n",
       "</table>\n",
       "</div>"
      ],
      "text/plain": [
       "                                            contents  polarity\n",
       "0  BBC says it's 'misleading' to call JK Rowling'...      0.00\n",
       "1  I have 3 children and the books  movies of JK ...      0.00\n",
       "2  In one trillion years there will be no more JK...     -0.25\n",
       "3  This is what  supports, people. The eradicatio...      0.00\n",
       "4  Happy #pride babes ❤️🧡💛💚💙💜\\n\\nStay hydrated, k...      0.12"
      ]
     },
     "execution_count": 990,
     "metadata": {},
     "output_type": "execute_result"
    }
   ],
   "source": [
    "#reads csv file containing dataframe\n",
    "labeled_tweets = pd.read_csv(r'C:\\Users\\dania\\Documents\\경희대학교\\웹 파이선프로그래밍\\Term Project\\term-project.csv')\n",
    "#includes only the relevant columns\n",
    "labeled_tweets = labeled_tweets[['contents', 'polarity']]\n",
    "labeled_tweets.head()"
   ]
  },
  {
   "cell_type": "code",
   "execution_count": 991,
   "id": "4a85b3ad-021f-4d2c-a638-2f4d0ac1704c",
   "metadata": {},
   "outputs": [],
   "source": [
    "#creates train dataframe with 80% of the data, and a test set with the remaining 20%\n",
    "train = labeled_tweets.sample(frac=0.8)\n",
    "test = labeled_tweets.drop(train.index)\n",
    "\n",
    "#turns columns into numpy arrays to use as inputs for training\n",
    "train_examples, train_labels = train['contents'].values, train['polarity'].values\n",
    "test_examples, test_labels = test['contents'].values, test['polarity'].values"
   ]
  },
  {
   "cell_type": "code",
   "execution_count": 992,
   "id": "a08db8d2-e09e-4fa5-9a19-de62ada9398c",
   "metadata": {},
   "outputs": [
    {
     "data": {
      "text/plain": [
       "<tf.Tensor: shape=(1, 128), dtype=float32, numpy=\n",
       "array([[ 4.17549431e-01, -7.03618536e-03,  2.14448139e-01,\n",
       "        -7.10551068e-02, -3.40042599e-02, -9.79365595e-03,\n",
       "         3.27943563e-02,  4.19967733e-02, -1.51335537e-01,\n",
       "         8.41522068e-02, -1.60442237e-02, -3.11894000e-01,\n",
       "         5.28027397e-03,  2.17520706e-02, -6.67694956e-02,\n",
       "         9.97089297e-02,  2.25942090e-01, -1.11131310e-01,\n",
       "        -1.44412994e-01,  3.82436424e-01,  7.84914047e-02,\n",
       "        -7.52940997e-02,  5.58948740e-02,  7.78195634e-02,\n",
       "        -1.72048599e-01, -1.44294456e-01,  4.27274480e-02,\n",
       "         6.96867704e-02, -3.04792792e-01,  5.77635653e-02,\n",
       "        -3.43274092e-03,  9.62619260e-02,  2.17905939e-02,\n",
       "         1.02503225e-01,  1.20593682e-02,  7.59878010e-02,\n",
       "        -3.93416509e-02, -5.93775734e-02,  7.16062784e-02,\n",
       "         2.48345375e-01, -4.08394150e-02,  3.23396511e-02,\n",
       "        -1.23106316e-02, -1.45973071e-01,  1.75744802e-01,\n",
       "         1.96779773e-01, -4.01058383e-02, -8.05485025e-02,\n",
       "        -1.90274104e-01, -8.02544579e-02,  2.34066606e-01,\n",
       "         1.78154223e-02, -2.18146145e-02,  8.18856135e-02,\n",
       "        -4.36153496e-03, -6.45416006e-02,  1.10921208e-02,\n",
       "        -9.84253138e-02, -2.30383873e-02, -4.07336578e-02,\n",
       "         6.71465248e-02,  1.99646637e-01,  1.54294908e-01,\n",
       "        -2.04468340e-01, -6.72383010e-02,  2.02615205e-02,\n",
       "        -7.82316364e-03, -4.82534990e-02,  1.68929547e-01,\n",
       "         1.66270763e-01, -2.41911896e-02,  1.01737544e-01,\n",
       "        -5.16990535e-02, -1.49006456e-01, -3.44140045e-02,\n",
       "         1.52222037e-01,  2.02743765e-02, -2.69528210e-01,\n",
       "         8.50921571e-02,  1.71071768e-01, -3.97019722e-02,\n",
       "         9.94637311e-02,  1.02995606e-02,  8.16008896e-02,\n",
       "         1.35323973e-02,  1.41298026e-01, -1.61485791e-01,\n",
       "        -6.15451224e-02,  7.35869184e-02,  1.14134312e-01,\n",
       "         1.49087310e-02,  1.04246616e-01, -2.25583613e-02,\n",
       "        -1.54561922e-01,  1.84864163e-01, -6.61031976e-02,\n",
       "        -1.66486207e-04, -2.58589145e-02,  9.15242881e-02,\n",
       "         1.10293105e-01,  1.84432104e-01, -1.55191928e-01,\n",
       "         6.98378831e-02,  2.40950324e-02,  1.65413914e-03,\n",
       "         1.86360121e-01, -4.82886732e-02, -1.41555639e-02,\n",
       "        -4.38900180e-02,  1.22884989e-01, -1.19461462e-01,\n",
       "         1.48461910e-03, -4.59710881e-02, -2.94737332e-02,\n",
       "        -1.53217437e-02, -1.44005626e-01, -3.34092006e-02,\n",
       "        -8.64111707e-02, -4.18874137e-02,  1.48514867e-01,\n",
       "         1.63154095e-01, -6.17356896e-02,  3.60666811e-02,\n",
       "         1.34465978e-01, -5.09204641e-02, -1.20727338e-01,\n",
       "         1.27475142e-01,  2.03602221e-02]], dtype=float32)>"
      ]
     },
     "execution_count": 992,
     "metadata": {},
     "output_type": "execute_result"
    }
   ],
   "source": [
    "#sets up a dictionary for tensorflow hub downloads to go to\n",
    "os.environ['TFHUB_CACHE_DIR'] = r'C:\\Users\\dania\\Documents\\경희대학교\\웹 파이선프로그래밍\\Term Project\\Tensorflow\\modules'\n",
    "\n",
    "#gets tokenization model from tensorflow hub to convert tweet content into numerical values\n",
    "model = \"https://tfhub.dev/google/nnlm-en-dim128-with-normalization/2\"\n",
    "hub_layer = hub.KerasLayer(model, input_shape=[], dtype=tf.string, trainable=True)\n",
    "\n",
    "#tokenization of an abstract to binary\n",
    "hub_layer(train_examples[0:1])"
   ]
  },
  {
   "cell_type": "code",
   "execution_count": 993,
   "id": "d3cb3f8a-39c0-4541-a0c9-f8c7cbbabb31",
   "metadata": {},
   "outputs": [
    {
     "name": "stdout",
     "output_type": "stream",
     "text": [
      "Model: \"sequential_43\"\n",
      "_________________________________________________________________\n",
      " Layer (type)                Output Shape              Param #   \n",
      "=================================================================\n",
      " keras_layer_41 (KerasLayer)  (None, 128)              124642688 \n",
      "                                                                 \n",
      " dense_126 (Dense)           (None, 16)                2064      \n",
      "                                                                 \n",
      " dense_127 (Dense)           (None, 8)                 136       \n",
      "                                                                 \n",
      " dense_128 (Dense)           (None, 1)                 9         \n",
      "                                                                 \n",
      "=================================================================\n",
      "Total params: 124,644,897\n",
      "Trainable params: 124,644,897\n",
      "Non-trainable params: 0\n",
      "_________________________________________________________________\n"
     ]
    }
   ],
   "source": [
    "#creates a Sequential neural network\n",
    "model = tf.keras.Sequential()\n",
    "model.add(hub_layer)\n",
    "model.add(tf.keras.layers.Dense(16, activation='relu'))\n",
    "model.add(tf.keras.layers.Dense(8, activation='relu'))\n",
    "model.add(tf.keras.layers.Dense(1, activation = 'sigmoid'))\n",
    "model.summary()"
   ]
  },
  {
   "cell_type": "code",
   "execution_count": 994,
   "id": "ed522149-d257-47c2-bafd-8eb7833e2d27",
   "metadata": {},
   "outputs": [],
   "source": [
    "# compiles model\n",
    "# designed for binary classification\n",
    "model.compile(optimizer='adam',\n",
    "              loss=tf.losses.BinaryCrossentropy(from_logits=True),\n",
    "              metrics=[tf.metrics.BinaryAccuracy(threshold=0.5, name='accuracy')])"
   ]
  },
  {
   "cell_type": "code",
   "execution_count": 995,
   "id": "52ceb51a-2214-4572-9588-15e97bcaa268",
   "metadata": {},
   "outputs": [
    {
     "name": "stdout",
     "output_type": "stream",
     "text": [
      "70 98\n"
     ]
    }
   ],
   "source": [
    "# sets aside some of the example datapoints for validation during training\n",
    "x_val = train_examples[:70]\n",
    "partial_x_train = train_examples[70:]\n",
    "\n",
    "y_val = train_labels[:70]\n",
    "partial_y_train = train_labels[70:]\n",
    "\n",
    "print(len(x_val), len(partial_x_train))"
   ]
  },
  {
   "cell_type": "code",
   "execution_count": 996,
   "id": "12c005fa-d147-40f9-a46f-7957adfbeb1e",
   "metadata": {
    "tags": []
   },
   "outputs": [
    {
     "name": "stdout",
     "output_type": "stream",
     "text": [
      "Epoch 1/10\n"
     ]
    },
    {
     "name": "stderr",
     "output_type": "stream",
     "text": [
      "c:\\users\\dania\\appdata\\local\\programs\\python\\python39\\lib\\site-packages\\tensorflow\\python\\util\\dispatch.py:1082: UserWarning: \"`binary_crossentropy` received `from_logits=True`, but the `output` argument was produced by a sigmoid or softmax activation and thus does not represent logits. Was this intended?\"\n",
      "  return dispatch_target(*args, **kwargs)\n"
     ]
    },
    {
     "name": "stdout",
     "output_type": "stream",
     "text": [
      "1/1 [==============================] - 3s 3s/step - loss: 0.7281 - accuracy: 0.0102 - val_loss: 0.7152 - val_accuracy: 0.0429\n",
      "Epoch 2/10\n",
      "1/1 [==============================] - 2s 2s/step - loss: 0.7097 - accuracy: 0.0918 - val_loss: 0.7050 - val_accuracy: 0.0571\n",
      "Epoch 3/10\n",
      "1/1 [==============================] - 2s 2s/step - loss: 0.6973 - accuracy: 0.1531 - val_loss: 0.6972 - val_accuracy: 0.1286\n",
      "Epoch 4/10\n",
      "1/1 [==============================] - 2s 2s/step - loss: 0.6877 - accuracy: 0.1735 - val_loss: 0.6902 - val_accuracy: 0.1571\n",
      "Epoch 5/10\n",
      "1/1 [==============================] - 1s 1s/step - loss: 0.6799 - accuracy: 0.1939 - val_loss: 0.6838 - val_accuracy: 0.2286\n",
      "Epoch 6/10\n",
      "1/1 [==============================] - 2s 2s/step - loss: 0.6734 - accuracy: 0.2551 - val_loss: 0.6779 - val_accuracy: 0.2429\n",
      "Epoch 7/10\n",
      "1/1 [==============================] - 1s 1s/step - loss: 0.6674 - accuracy: 0.2551 - val_loss: 0.6721 - val_accuracy: 0.2429\n",
      "Epoch 8/10\n",
      "1/1 [==============================] - 2s 2s/step - loss: 0.6613 - accuracy: 0.2959 - val_loss: 0.6662 - val_accuracy: 0.2429\n",
      "Epoch 9/10\n",
      "1/1 [==============================] - 2s 2s/step - loss: 0.6553 - accuracy: 0.2959 - val_loss: 0.6604 - val_accuracy: 0.2429\n",
      "Epoch 10/10\n",
      "1/1 [==============================] - 2s 2s/step - loss: 0.6493 - accuracy: 0.2959 - val_loss: 0.6545 - val_accuracy: 0.2429\n"
     ]
    }
   ],
   "source": [
    "#train the model\n",
    "history = model.fit(partial_x_train,\n",
    "                    partial_y_train,\n",
    "                    epochs=10,\n",
    "                    batch_size=140,\n",
    "                    validation_data=(x_val, y_val),\n",
    "                    verbose=1)"
   ]
  },
  {
   "cell_type": "code",
   "execution_count": 997,
   "id": "d1da7830-c861-4b9a-a859-4e89d1b79ff5",
   "metadata": {},
   "outputs": [
    {
     "name": "stdout",
     "output_type": "stream",
     "text": [
      "2/2 [==============================] - 0s 203ms/step - loss: 0.6527 - accuracy: 0.4048\n",
      "[0.6526638269424438, 0.4047619104385376]\n"
     ]
    }
   ],
   "source": [
    "# evaluate performance on test set\n",
    "results = model.evaluate(test_examples, test_labels)\n",
    "print(results)"
   ]
  },
  {
   "cell_type": "code",
   "execution_count": 998,
   "id": "e7eaf811-34a9-4374-9668-b9aa7c34a3aa",
   "metadata": {},
   "outputs": [
    {
     "name": "stdout",
     "output_type": "stream",
     "text": [
      "2/2 [==============================] - 1s 196ms/step\n"
     ]
    },
    {
     "ename": "InvalidArgumentError",
     "evalue": "`labels` contains negative values.  \nCondition x >= 0 did not hold element-wise:\nx (shape=(42,) dtype=int64) = \n['0', '0', '0', '...']",
     "output_type": "error",
     "traceback": [
      "\u001b[1;31m---------------------------------------------------------------------------\u001b[0m",
      "\u001b[1;31mInvalidArgumentError\u001b[0m                      Traceback (most recent call last)",
      "Input \u001b[1;32mIn [998]\u001b[0m, in \u001b[0;36m<cell line: 4>\u001b[1;34m()\u001b[0m\n\u001b[0;32m      2\u001b[0m predictions \u001b[38;5;241m=\u001b[39m (model\u001b[38;5;241m.\u001b[39mpredict(test_examples) \u001b[38;5;241m>\u001b[39m \u001b[38;5;241m0.5\u001b[39m)\u001b[38;5;241m.\u001b[39mastype(\u001b[38;5;124m\"\u001b[39m\u001b[38;5;124mint32\u001b[39m\u001b[38;5;124m\"\u001b[39m)\n\u001b[0;32m      3\u001b[0m predictions \u001b[38;5;241m=\u001b[39m [p[\u001b[38;5;241m0\u001b[39m] \u001b[38;5;28;01mfor\u001b[39;00m p \u001b[38;5;129;01min\u001b[39;00m predictions]\n\u001b[1;32m----> 4\u001b[0m confusion_matrix \u001b[38;5;241m=\u001b[39m \u001b[43mtf\u001b[49m\u001b[38;5;241;43m.\u001b[39;49m\u001b[43mmath\u001b[49m\u001b[38;5;241;43m.\u001b[39;49m\u001b[43mconfusion_matrix\u001b[49m\u001b[43m(\u001b[49m\u001b[43mtest_labels\u001b[49m\u001b[43m,\u001b[49m\u001b[43m \u001b[49m\u001b[43mpredictions\u001b[49m\u001b[43m)\u001b[49m\n\u001b[0;32m      6\u001b[0m ax \u001b[38;5;241m=\u001b[39m plt\u001b[38;5;241m.\u001b[39maxes()\n\u001b[0;32m      7\u001b[0m sns\u001b[38;5;241m.\u001b[39mheatmap(confusion_matrix, cmap\u001b[38;5;241m=\u001b[39m\u001b[38;5;124m'\u001b[39m\u001b[38;5;124mflare\u001b[39m\u001b[38;5;124m'\u001b[39m, annot \u001b[38;5;241m=\u001b[39m \u001b[38;5;28;01mTrue\u001b[39;00m, fmt \u001b[38;5;241m=\u001b[39m \u001b[38;5;124m'\u001b[39m\u001b[38;5;124md\u001b[39m\u001b[38;5;124m'\u001b[39m, ax \u001b[38;5;241m=\u001b[39m ax)\n",
      "File \u001b[1;32mc:\\users\\dania\\appdata\\local\\programs\\python\\python39\\lib\\site-packages\\tensorflow\\python\\util\\traceback_utils.py:153\u001b[0m, in \u001b[0;36mfilter_traceback.<locals>.error_handler\u001b[1;34m(*args, **kwargs)\u001b[0m\n\u001b[0;32m    151\u001b[0m \u001b[38;5;28;01mexcept\u001b[39;00m \u001b[38;5;167;01mException\u001b[39;00m \u001b[38;5;28;01mas\u001b[39;00m e:\n\u001b[0;32m    152\u001b[0m   filtered_tb \u001b[38;5;241m=\u001b[39m _process_traceback_frames(e\u001b[38;5;241m.\u001b[39m__traceback__)\n\u001b[1;32m--> 153\u001b[0m   \u001b[38;5;28;01mraise\u001b[39;00m e\u001b[38;5;241m.\u001b[39mwith_traceback(filtered_tb) \u001b[38;5;28;01mfrom\u001b[39;00m \u001b[38;5;28mNone\u001b[39m\n\u001b[0;32m    154\u001b[0m \u001b[38;5;28;01mfinally\u001b[39;00m:\n\u001b[0;32m    155\u001b[0m   \u001b[38;5;28;01mdel\u001b[39;00m filtered_tb\n",
      "File \u001b[1;32mc:\\users\\dania\\appdata\\local\\programs\\python\\python39\\lib\\site-packages\\tensorflow\\python\\ops\\check_ops.py:407\u001b[0m, in \u001b[0;36m_binary_assert\u001b[1;34m(sym, opname, op_func, static_func, x, y, data, summarize, message, name)\u001b[0m\n\u001b[0;32m    404\u001b[0m   \u001b[38;5;28;01mif\u001b[39;00m message \u001b[38;5;129;01mis\u001b[39;00m \u001b[38;5;129;01mnot\u001b[39;00m \u001b[38;5;28;01mNone\u001b[39;00m:\n\u001b[0;32m    405\u001b[0m     data \u001b[38;5;241m=\u001b[39m [message] \u001b[38;5;241m+\u001b[39m \u001b[38;5;28mlist\u001b[39m(data)\n\u001b[1;32m--> 407\u001b[0m   \u001b[38;5;28;01mraise\u001b[39;00m errors\u001b[38;5;241m.\u001b[39mInvalidArgumentError(\n\u001b[0;32m    408\u001b[0m       node_def\u001b[38;5;241m=\u001b[39m\u001b[38;5;28;01mNone\u001b[39;00m,\n\u001b[0;32m    409\u001b[0m       op\u001b[38;5;241m=\u001b[39m\u001b[38;5;28;01mNone\u001b[39;00m,\n\u001b[0;32m    410\u001b[0m       message\u001b[38;5;241m=\u001b[39m(\u001b[38;5;124m'\u001b[39m\u001b[38;5;130;01m\\n\u001b[39;00m\u001b[38;5;124m'\u001b[39m\u001b[38;5;241m.\u001b[39mjoin(_pretty_print(d, summarize) \u001b[38;5;28;01mfor\u001b[39;00m d \u001b[38;5;129;01min\u001b[39;00m data)))\n\u001b[0;32m    412\u001b[0m \u001b[38;5;28;01melse\u001b[39;00m:  \u001b[38;5;66;03m# not context.executing_eagerly()\u001b[39;00m\n\u001b[0;32m    413\u001b[0m   \u001b[38;5;28;01mif\u001b[39;00m data \u001b[38;5;129;01mis\u001b[39;00m \u001b[38;5;28;01mNone\u001b[39;00m:\n",
      "\u001b[1;31mInvalidArgumentError\u001b[0m: `labels` contains negative values.  \nCondition x >= 0 did not hold element-wise:\nx (shape=(42,) dtype=int64) = \n['0', '0', '0', '...']"
     ]
    }
   ],
   "source": [
    "# visualize performance with a confusion matrix\n",
    "predictions = (model.predict(test_examples) > 0.5).astype(\"int32\")\n",
    "predictions = [p[0] for p in predictions]\n",
    "confusion_matrix = tf.math.confusion_matrix(test_labels, predictions)\n",
    "\n",
    "ax = plt.axes()\n",
    "sns.heatmap(confusion_matrix, cmap='flare', annot = True, fmt = 'd', ax = ax)\n",
    "ax.set_title('Tensorflow NLP Model: Confusion Matrix')\n",
    "ax.set_xlabel('Predicted Label')\n",
    "ax.set_ylabel('True Label')\n",
    "plt.show()"
   ]
  },
  {
   "cell_type": "code",
   "execution_count": null,
   "id": "23dbbe8d-e72b-4188-81d0-5b97159cb7b1",
   "metadata": {
    "tags": []
   },
   "outputs": [],
   "source": [
    "# gets TextBlob analysis\n",
    "def get_sentiment_2(text):\n",
    "    analysis = TextBlob(text)\n",
    "    if analysis.sentiment.polarity > 0:\n",
    "        return 1\n",
    "    elif analysis.sentiment.polarity == 0 and random.random() > 0.5:\n",
    "        return 1\n",
    "    else: \n",
    "        return 0"
   ]
  },
  {
   "cell_type": "code",
   "execution_count": null,
   "id": "68c96dad-5ab0-4c8c-9e75-b15fe992dcd0",
   "metadata": {},
   "outputs": [],
   "source": [
    "# compares TextBlob with TensorFlow\n",
    "correct = 0\n",
    "incorrect = 0\n",
    "\n",
    "for i in range(len(test_examples)):\n",
    "    if test_labels[i] == get_sentiment_2(test_examples[i]):\n",
    "        correct +=1\n",
    "    else:\n",
    "        incorrect +=1\n",
    "        \n",
    "print('Accuracy: ', correct/(correct+incorrect))"
   ]
  },
  {
   "cell_type": "code",
   "execution_count": null,
   "id": "3c8a83e3-15be-4eac-a162-36a59b8126fe",
   "metadata": {},
   "outputs": [],
   "source": [
    "# gets TensorFlow analysis results\n",
    "def tensor_sentiment_calc(text):\n",
    "    tensor_flow = (model.predict(['contents'])> 0.5).astype(\"int32\")[0][0]\n",
    "    if tensor_flow==1:\n",
    "        return 'positive'\n",
    "    else:\n",
    "        return 'negative'\n",
    "        \n",
    "df['textblob'] = df['contents'].apply(sentiment_calc)\n",
    "df['tensor'] = df['contents'].apply(tensor_sentiment_calc)"
   ]
  },
  {
   "cell_type": "code",
   "execution_count": null,
   "id": "b83d9e1c-aee5-43a6-9a0b-5e8c2c7e8c75",
   "metadata": {},
   "outputs": [],
   "source": [
    "df.to_csv(r'C:\\Users\\dania\\Documents\\경희대학교\\웹 파이선프로그래밍\\Term Project\\term-project-final.csv')"
   ]
  },
  {
   "cell_type": "code",
   "execution_count": null,
   "id": "da996189-e1ba-486a-a816-b00e8a69762a",
   "metadata": {},
   "outputs": [],
   "source": [
    "df.head()"
   ]
  }
 ],
 "metadata": {
  "kernelspec": {
   "display_name": "Python 3",
   "language": "python",
   "name": "python3"
  },
  "language_info": {
   "codemirror_mode": {
    "name": "ipython",
    "version": 3
   },
   "file_extension": ".py",
   "mimetype": "text/x-python",
   "name": "python",
   "nbconvert_exporter": "python",
   "pygments_lexer": "ipython3",
   "version": "3.8.5"
  }
 },
 "nbformat": 4,
 "nbformat_minor": 5
}
