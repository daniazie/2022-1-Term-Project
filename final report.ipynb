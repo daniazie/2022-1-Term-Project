{
 "cells": [
  {
   "cell_type": "markdown",
   "id": "7398f13b-d4da-444f-b844-b41c2056a921",
   "metadata": {},
   "source": [
    "# Term Project Final Report\n",
    "Web and Python Programming Semester 1 2022<br>\n",
    "Department of Software Convergence<br>\n",
    "2022100309 Nur Alya Dania binti Moriazi<br>"
   ]
  },
  {
   "cell_type": "markdown",
   "id": "f3ea443b-093c-41cf-8e9d-d735baddec68",
   "metadata": {
    "jp-MarkdownHeadingCollapsed": true,
    "tags": []
   },
   "source": [
    "#### 1. Topic and Reason for Selection: Public Opinion on J.K. Rowling\n",
    "Using the Twitter API, I have decided to gather public opinion on J.K. Rowling. A once beloved figure, she has been at the centre of controversy over the years due to her opinions on transgender rights. I had initially changed my topic to be about the death penalty in Singapore and Malaysia, but due to Twitter's 7-day limit on tweet lookups, it had become difficult to collect data. "
   ]
  },
  {
   "cell_type": "markdown",
   "id": "ef820f25-3c4c-4399-8955-48ee508c3f16",
   "metadata": {},
   "source": [
    "#### 2. Definition of Hypothesis\n",
    "J.K. Rowling has become a controversial figure in recent years due to her opinions on transgender rights. As such, it appears that the public's opinion of her had worsen over the years despite once being amongst the most idealized authors in the world. Therefore, I decided to take a closer look and see how her opinions over transgender rights have affected her popularity."
   ]
  },
  {
   "cell_type": "markdown",
   "id": "4e353858-353a-4612-a947-57bab1502fa3",
   "metadata": {},
   "source": [
    "#### 3. Data Acquisition via the Internet\n",
    "Using the TwitterAPI library, Twitter's API was accessed and the data obtained was appended to a pandas dataframe. Specifically, the tweets/search/recent libraries were used to search for relevant tweets, when the tweets were posted, the type of tweet and the language of the tweets. As the maximum number of tweets that could be collected is 100, 100 was set as the maximum results. \n",
    "\n",
    "Using the query field, I filtered out retweets and tweet replies to avoid gathering too much tweets that could potential have me reach the maximum amount of tweets I could scrap in a month. I also used the query field to ensure the tweets scrapped were made in the English language. The tweets were then appended to a pandas dataframe and exported to a .csv file. "
   ]
  },
  {
   "cell_type": "markdown",
   "id": "5a112bbe-ee52-40d1-8240-9d8f00871bc8",
   "metadata": {},
   "source": [
    "#### 4. Processing the Data\n",
    "Using TensorFlow, I built a machine learning model that performed sentiment analysis on the tweets to determine whether the general message was negative or positive. I had also used TextBlob to compare the results obtained by the model versus the ones obtained by TextBlob in my analysis. More information is included in the .ipynb file submitted together."
   ]
  },
  {
   "cell_type": "markdown",
   "id": "08999e8a-84d8-49ed-8ed7-f64855813d24",
   "metadata": {},
   "source": [
    "#### 5. Derive the Analysis Results\n",
    "The contents of the tweets are tokenized into binary form and the polarity of the contents are calculated. The tweet contents will assigned a binary number, 0 or 1. A 0 indicates a negative result whereas a 1 indicates a positive result."
   ]
  },
  {
   "cell_type": "markdown",
   "id": "b378757a-898c-442e-8ea1-29cf2fd33865",
   "metadata": {},
   "source": [
    "#### 6. Conclusion\n",
    "From the final csv results obtained, it can be concluded that public opinion over J.K. Rowling has indeed worsen over the years due to her own opinions over transgender rights."
   ]
  },
  {
   "cell_type": "markdown",
   "id": "0e04e0f7-e51a-4bf6-8774-abeb51819477",
   "metadata": {},
   "source": [
    "#### 7. References\n",
    "https://developer.twitter.com/en/docs/twitter-api/tools-and-libraries/v2 <br>\n",
    "https://towardsdatascience.com/nyt-sentiment-analysis-with-tensorflow-7156d77e385e <br>\n",
    "https://github.com/geduldig/TwitterAPI/tree/master/examples/v2"
   ]
  },
  {
   "cell_type": "code",
   "execution_count": null,
   "id": "d3fec6e2-992a-47b2-a90b-378f3c8ade7d",
   "metadata": {},
   "outputs": [],
   "source": []
  }
 ],
 "metadata": {
  "kernelspec": {
   "display_name": "Python 3",
   "language": "python",
   "name": "python3"
  },
  "language_info": {
   "codemirror_mode": {
    "name": "ipython",
    "version": 3
   },
   "file_extension": ".py",
   "mimetype": "text/x-python",
   "name": "python",
   "nbconvert_exporter": "python",
   "pygments_lexer": "ipython3",
   "version": "3.8.5"
  }
 },
 "nbformat": 4,
 "nbformat_minor": 5
}
